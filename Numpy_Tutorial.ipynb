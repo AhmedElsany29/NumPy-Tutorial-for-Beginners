{
 "cells": [
  {
   "cell_type": "markdown",
   "id": "43ef6e77",
   "metadata": {},
   "source": [
    "# <img src=\"https://i0.wp.com/tech-mags.com/wp-content/uploads/2022/03/1200px-NumPy_logo_2020.svg_.png?resize=1024%2C461&ssl=1\" /> "
   ]
  },
  {
   "cell_type": "markdown",
   "id": "2127767f",
   "metadata": {},
   "source": [
    "# Introduction to NumPy\n",
    "\n",
    "**NumPy** is short for \"Numerical Python\" and is a powerful library that provides a broad array of functionality for performing fast numerical and mathematical operations in Python.\n",
    "\n",
    "\n",
    "## Key Features of NumPy:\n",
    "- **NumPy**'s core data structure is the **ndArray** (or n-dimensional array).\n",
    "- Much of the functionality of **NumPy** is written in the **C** programming language behind the scenes to optimize performance.\n",
    "- **NumPy** is used in other popular Python packages like **Pandas**, **Matplotlib**, and **scikit-learn**.\n",
    "\n",
    "\n",
    "## A First Look at NumPy Arrays:\n",
    "At first glance, a **NumPy array** might look similar to a **List** (or in the case of multi-dimensional arrays, a List of Lists...). However, there are significant differences that make **NumPy arrays** faster and more efficient for numerical computations.\n",
    "\n",
    "\n",
    "### Lists vs NumPy Arrays:\n",
    "- **Lists** can hold different data types (integers, strings, etc.), which can limit performance when performing mathematical operations.\n",
    "- **NumPy arrays** are homogeneous, meaning all values in the array are of the same type. This uniformity allows **NumPy** to perform calculations much faster and more efficiently.\n",
    "\n",
    "---\n",
    "\n",
    "**NumPy** serves as the foundation for many advanced computational tasks in **Python**, including data analysis, machine learning, and artificial intelligence.\n"
   ]
  },
  {
   "cell_type": "markdown",
   "id": "34ac2905",
   "metadata": {},
   "source": [
    "###  Installing NumPy"
   ]
  },
  {
   "cell_type": "code",
   "execution_count": 14,
   "id": "f062b6fb",
   "metadata": {},
   "outputs": [
    {
     "name": "stdout",
     "output_type": "stream",
     "text": [
      "Requirement already satisfied: numpy in g:\\anaconda\\lib\\site-packages (1.26.3)\n",
      "Note: you may need to restart the kernel to use updated packages.\n"
     ]
    },
    {
     "name": "stderr",
     "output_type": "stream",
     "text": [
      "WARNING: Ignoring invalid distribution ~orch (g:\\Anaconda\\Lib\\site-packages)\n",
      "DEPRECATION: Loading egg at g:\\anaconda\\lib\\site-packages\\huggingface_hub-0.24.6-py3.8.egg is deprecated. pip 24.3 will enforce this behaviour change. A possible replacement is to use pip for package installation. Discussion can be found at https://github.com/pypa/pip/issues/12330\n",
      "WARNING: Ignoring invalid distribution ~orch (g:\\Anaconda\\Lib\\site-packages)\n",
      "WARNING: Ignoring invalid distribution ~orch (g:\\Anaconda\\Lib\\site-packages)\n"
     ]
    }
   ],
   "source": [
    "pip install numpy"
   ]
  },
  {
   "cell_type": "code",
   "execution_count": 2,
   "id": "d5098d0d",
   "metadata": {},
   "outputs": [],
   "source": [
    "# import library\n",
    "import numpy as np\n",
    "import pandas as pd"
   ]
  },
  {
   "cell_type": "code",
   "execution_count": 10,
   "id": "40f188d4",
   "metadata": {},
   "outputs": [],
   "source": [
    "from numpy import *"
   ]
  },
  {
   "cell_type": "code",
   "execution_count": 20,
   "id": "a4189860",
   "metadata": {},
   "outputs": [],
   "source": [
    "#  Creating a 1-D list\n",
    "list1 = [12, 3, 45, 4, 6]"
   ]
  },
  {
   "cell_type": "code",
   "execution_count": 21,
   "id": "8e3668f7",
   "metadata": {},
   "outputs": [
    {
     "data": {
      "text/plain": [
       "[12, 3, 45, 4, 6]"
      ]
     },
     "execution_count": 21,
     "metadata": {},
     "output_type": "execute_result"
    }
   ],
   "source": [
    "list1"
   ]
  },
  {
   "cell_type": "code",
   "execution_count": 22,
   "id": "c345dda1",
   "metadata": {},
   "outputs": [
    {
     "data": {
      "text/plain": [
       "array([12,  3, 45,  4,  6])"
      ]
     },
     "execution_count": 22,
     "metadata": {},
     "output_type": "execute_result"
    }
   ],
   "source": [
    "#  Creating a 1-D array\n",
    "a = np.array(list1)\n",
    "a"
   ]
  },
  {
   "cell_type": "code",
   "execution_count": 13,
   "id": "f90506c5",
   "metadata": {},
   "outputs": [
    {
     "data": {
      "text/plain": [
       "[[1, 2, 3], [4, 5, 6]]"
      ]
     },
     "execution_count": 13,
     "metadata": {},
     "output_type": "execute_result"
    }
   ],
   "source": [
    "# Creating a 2-D list\n",
    "list2d = [[1, 2, 3], [4, 5, 6]]\n",
    "list2d"
   ]
  },
  {
   "cell_type": "code",
   "execution_count": 16,
   "id": "caa61beb",
   "metadata": {},
   "outputs": [
    {
     "data": {
      "text/plain": [
       "array([[1, 2, 3],\n",
       "       [4, 5, 6]])"
      ]
     },
     "execution_count": 16,
     "metadata": {},
     "output_type": "execute_result"
    }
   ],
   "source": [
    "# Creating a 2-D array\n",
    "b = np.array(list2d)\n",
    "b"
   ]
  },
  {
   "cell_type": "markdown",
   "id": "1218d881",
   "metadata": {},
   "source": [
    " NumPy provides us the ability to do so much more than we\n",
    " could do with Lists, and at a much, much faster speed!\n"
   ]
  },
  {
   "cell_type": "code",
   "execution_count": 5,
   "id": "19130d75",
   "metadata": {},
   "outputs": [
    {
     "data": {
      "text/plain": [
       "array([0., 0., 0., 0., 0.])"
      ]
     },
     "execution_count": 5,
     "metadata": {},
     "output_type": "execute_result"
    }
   ],
   "source": [
    "# Creating an array filled with zeros\n",
    "np.zeros(5)"
   ]
  },
  {
   "cell_type": "markdown",
   "id": "85cdac5e",
   "metadata": {},
   "source": [
    " - `np.zeros`\n",
    "# <img src=\"https://www.w3resource.com/w3r_images/numpy-array-zeros-function-image-a.png\" /> "
   ]
  },
  {
   "cell_type": "code",
   "execution_count": 17,
   "id": "05852e25",
   "metadata": {},
   "outputs": [
    {
     "data": {
      "text/plain": [
       "array([1., 1., 1., 1., 1.])"
      ]
     },
     "execution_count": 17,
     "metadata": {},
     "output_type": "execute_result"
    }
   ],
   "source": [
    "# Creating an array filled with ones\n",
    "np.ones(5)"
   ]
  },
  {
   "cell_type": "code",
   "execution_count": 18,
   "id": "ed0a9a5f",
   "metadata": {},
   "outputs": [
    {
     "data": {
      "text/plain": [
       "array([[1., 0., 0., 0.],\n",
       "       [0., 1., 0., 0.],\n",
       "       [0., 0., 1., 0.],\n",
       "       [0., 0., 0., 1.]])"
      ]
     },
     "execution_count": 18,
     "metadata": {},
     "output_type": "execute_result"
    }
   ],
   "source": [
    "np.eye(4)"
   ]
  },
  {
   "cell_type": "markdown",
   "id": "40caad23",
   "metadata": {},
   "source": [
    " - `np.eye`\n",
    "# <img src=\"https://www.w3resource.com/w3r_images/numpy-array-eye-function-image-1.png\" /> "
   ]
  },
  {
   "cell_type": "code",
   "execution_count": 19,
   "id": "60a44304",
   "metadata": {},
   "outputs": [
    {
     "data": {
      "text/plain": [
       "array([[0., 1., 0., 0.],\n",
       "       [0., 0., 1., 0.],\n",
       "       [0., 0., 0., 1.],\n",
       "       [0., 0., 0., 0.]])"
      ]
     },
     "execution_count": 19,
     "metadata": {},
     "output_type": "execute_result"
    }
   ],
   "source": [
    "np.eye(4, k=1)"
   ]
  },
  {
   "cell_type": "code",
   "execution_count": 20,
   "id": "c08773b5",
   "metadata": {},
   "outputs": [
    {
     "data": {
      "text/plain": [
       "array([[0, 1, 0, 0],\n",
       "       [0, 0, 1, 0],\n",
       "       [0, 0, 0, 1],\n",
       "       [0, 0, 0, 0]])"
      ]
     },
     "execution_count": 20,
     "metadata": {},
     "output_type": "execute_result"
    }
   ],
   "source": [
    "np.eye(4, k=1, dtype=int)"
   ]
  },
  {
   "cell_type": "code",
   "execution_count": 21,
   "id": "3c0d1b27",
   "metadata": {},
   "outputs": [
    {
     "data": {
      "text/plain": [
       "array([10, 10, 10, 10])"
      ]
     },
     "execution_count": 21,
     "metadata": {},
     "output_type": "execute_result"
    }
   ],
   "source": [
    "e = np.full(4, 10)\n",
    "e"
   ]
  },
  {
   "cell_type": "code",
   "execution_count": 22,
   "id": "a62845e7",
   "metadata": {},
   "outputs": [
    {
     "data": {
      "text/plain": [
       "array([[7, 7],\n",
       "       [7, 7]])"
      ]
     },
     "execution_count": 22,
     "metadata": {},
     "output_type": "execute_result"
    }
   ],
   "source": [
    "e = np.full((2, 2), 7)\n",
    "e"
   ]
  },
  {
   "cell_type": "markdown",
   "id": "788d4e6b",
   "metadata": {},
   "source": [
    "- **`np.empty`**: Creates a new array without initializing its entries. The values in the array are whatever happens to already exist at that memory location."
   ]
  },
  {
   "cell_type": "code",
   "execution_count": 23,
   "id": "73149e03",
   "metadata": {},
   "outputs": [
    {
     "data": {
      "text/plain": [
       "array([1., 1., 1., 1.])"
      ]
     },
     "execution_count": 23,
     "metadata": {},
     "output_type": "execute_result"
    }
   ],
   "source": [
    "np.empty(4)"
   ]
  },
  {
   "cell_type": "markdown",
   "id": "0901ae04",
   "metadata": {},
   "source": [
    "\n",
    "- **The `np.diag` function** returns the diagonal elements of the array, or it can create a diagonal matrix from a 1D array.\n",
    "\n",
    "- **The `np.count_nonzero` function** returns the number of non-zero elements in the array.\n"
   ]
  },
  {
   "cell_type": "code",
   "execution_count": 24,
   "id": "4081b661",
   "metadata": {},
   "outputs": [
    {
     "data": {
      "text/plain": [
       "array([2, 8, 2, 4])"
      ]
     },
     "execution_count": 24,
     "metadata": {},
     "output_type": "execute_result"
    }
   ],
   "source": [
    "arr = np.array([2, 8, 2, 4])\n",
    "arr"
   ]
  },
  {
   "cell_type": "code",
   "execution_count": 25,
   "id": "e007a0eb",
   "metadata": {},
   "outputs": [
    {
     "data": {
      "text/plain": [
       "array([[2, 0, 0, 0],\n",
       "       [0, 8, 0, 0],\n",
       "       [0, 0, 2, 0],\n",
       "       [0, 0, 0, 4]])"
      ]
     },
     "execution_count": 25,
     "metadata": {},
     "output_type": "execute_result"
    }
   ],
   "source": [
    " diag_arr = diag(arr)\n",
    " diag_arr"
   ]
  },
  {
   "cell_type": "code",
   "execution_count": 26,
   "id": "970706e3",
   "metadata": {},
   "outputs": [
    {
     "data": {
      "text/plain": [
       "4"
      ]
     },
     "execution_count": 26,
     "metadata": {},
     "output_type": "execute_result"
    }
   ],
   "source": [
    "count_nonzero(diag_arr)"
   ]
  },
  {
   "cell_type": "code",
   "execution_count": 27,
   "id": "fe84327b",
   "metadata": {},
   "outputs": [
    {
     "data": {
      "text/plain": [
       "12"
      ]
     },
     "execution_count": 27,
     "metadata": {},
     "output_type": "execute_result"
    }
   ],
   "source": [
    "np.count_nonzero(diag_arr == 0)"
   ]
  },
  {
   "cell_type": "markdown",
   "id": "a79d5512",
   "metadata": {},
   "source": [
    "- **The `type` function** returns the type of the array.\n"
   ]
  },
  {
   "cell_type": "code",
   "execution_count": 28,
   "id": "12e5c09b",
   "metadata": {},
   "outputs": [
    {
     "data": {
      "text/plain": [
       "array([[1, 2, 3],\n",
       "       [4, 5, 6]])"
      ]
     },
     "execution_count": 28,
     "metadata": {},
     "output_type": "execute_result"
    }
   ],
   "source": [
    "b"
   ]
  },
  {
   "cell_type": "code",
   "execution_count": 29,
   "id": "9b9552bd",
   "metadata": {},
   "outputs": [
    {
     "data": {
      "text/plain": [
       "numpy.ndarray"
      ]
     },
     "execution_count": 29,
     "metadata": {},
     "output_type": "execute_result"
    }
   ],
   "source": [
    "type(b)"
   ]
  },
  {
   "cell_type": "markdown",
   "id": "b6852e82",
   "metadata": {},
   "source": [
    "\n",
    "\n",
    "- **The `shape` function** returns the shape of the array.\n"
   ]
  },
  {
   "cell_type": "code",
   "execution_count": 30,
   "id": "74fd04b3",
   "metadata": {},
   "outputs": [
    {
     "data": {
      "text/plain": [
       "(2, 3)"
      ]
     },
     "execution_count": 30,
     "metadata": {},
     "output_type": "execute_result"
    }
   ],
   "source": [
    "b.shape"
   ]
  },
  {
   "cell_type": "markdown",
   "id": "4e96ce0c",
   "metadata": {},
   "source": [
    "\n",
    "- **The `len` function** returns the size of the array.\n"
   ]
  },
  {
   "cell_type": "code",
   "execution_count": 31,
   "id": "dfae66f8",
   "metadata": {},
   "outputs": [
    {
     "data": {
      "text/plain": [
       "2"
      ]
     },
     "execution_count": 31,
     "metadata": {},
     "output_type": "execute_result"
    }
   ],
   "source": [
    "len(b)"
   ]
  },
  {
   "cell_type": "markdown",
   "id": "589f99e9",
   "metadata": {},
   "source": [
    "\n",
    "\n",
    "- **The `ndim` function** returns the number of dimensions of the array.\n"
   ]
  },
  {
   "cell_type": "code",
   "execution_count": 32,
   "id": "57472110",
   "metadata": {},
   "outputs": [
    {
     "data": {
      "text/plain": [
       "2"
      ]
     },
     "execution_count": 32,
     "metadata": {},
     "output_type": "execute_result"
    }
   ],
   "source": [
    "ndim(b)"
   ]
  },
  {
   "cell_type": "markdown",
   "id": "6aa5c419",
   "metadata": {},
   "source": [
    "The difference between using len() and ndim in NumPy"
   ]
  },
  {
   "cell_type": "code",
   "execution_count": 33,
   "id": "ecfd5ca1",
   "metadata": {},
   "outputs": [
    {
     "name": "stdout",
     "output_type": "stream",
     "text": [
      "3\n",
      "5\n"
     ]
    }
   ],
   "source": [
    "arr_2d = np.array([[1, 2, 3], [4, 5, 6], [7, 8, 9]])\n",
    "print(len(arr_2d))\n",
    "\n",
    "arr_1d = np.array([1, 2, 3, 4, 5])\n",
    "print(len(arr_1d))\n"
   ]
  },
  {
   "cell_type": "code",
   "execution_count": 34,
   "id": "6e47f69d",
   "metadata": {},
   "outputs": [
    {
     "name": "stdout",
     "output_type": "stream",
     "text": [
      "2\n",
      "1\n",
      "3\n"
     ]
    }
   ],
   "source": [
    "arr_2d = np.array([[1, 2, 3], [4, 5, 6], [7, 8, 9]])\n",
    "print(arr_2d.ndim)\n",
    "\n",
    "arr_1d = np.array([1, 2, 3, 4, 5])\n",
    "print(arr_1d.ndim)\n",
    "\n",
    "arr_3d = np.array([[[1, 2], [3, 4]], [[5, 6], [7, 8]]])\n",
    "print(arr_3d.ndim)\n"
   ]
  },
  {
   "cell_type": "markdown",
   "id": "e08096fd",
   "metadata": {},
   "source": [
    "\n",
    "- **The `size` function** returns the size of the array."
   ]
  },
  {
   "cell_type": "code",
   "execution_count": 35,
   "id": "a24d2874",
   "metadata": {},
   "outputs": [
    {
     "data": {
      "text/plain": [
       "6"
      ]
     },
     "execution_count": 35,
     "metadata": {},
     "output_type": "execute_result"
    }
   ],
   "source": [
    "b.size"
   ]
  },
  {
   "cell_type": "markdown",
   "id": "1a34a8ba",
   "metadata": {},
   "source": [
    "- **`np.unique(k)`** returns the unique elements in the array.\n",
    "- **`np.unique(k, return_index=True)`** returns both the unique elements and their indices in the original array."
   ]
  },
  {
   "cell_type": "code",
   "execution_count": 36,
   "id": "3e256d8d",
   "metadata": {},
   "outputs": [
    {
     "name": "stdout",
     "output_type": "stream",
     "text": [
      "[1 2 3 4]\n"
     ]
    }
   ],
   "source": [
    "k = np.array([1, 2, 3, 1, 4, 2])\n",
    "x = np.unique(k)\n",
    "print(x) "
   ]
  },
  {
   "cell_type": "code",
   "execution_count": 37,
   "id": "1e53658b",
   "metadata": {},
   "outputs": [
    {
     "name": "stdout",
     "output_type": "stream",
     "text": [
      "Unique values: [1 2 3 4]\n",
      "Indices of unique values: [0 1 2 4]\n"
     ]
    }
   ],
   "source": [
    "import numpy as np\n",
    "\n",
    "k = np.array([1, 2, 3, 1, 4, 2])\n",
    "unique_values, indices = np.unique(k, return_index=True)\n",
    "print(\"Unique values:\", unique_values) \n",
    "print(\"Indices of unique values:\", indices)  \n"
   ]
  },
  {
   "cell_type": "markdown",
   "id": "06289214",
   "metadata": {},
   "source": [
    " **`np.delete()`** function is used to remove elements from an array. You can specify the index (or indices) of the elements you want to delete."
   ]
  },
  {
   "cell_type": "code",
   "execution_count": 38,
   "id": "a3e6aa0a",
   "metadata": {},
   "outputs": [
    {
     "name": "stdout",
     "output_type": "stream",
     "text": [
      "[10 30 40]\n"
     ]
    }
   ],
   "source": [
    "arr = np.array([10, 20, 30, 40])\n",
    "\n",
    "# Delete element 20 (at index 1)\n",
    "d = np.delete(arr, 1)\n",
    "print(d)  \n"
   ]
  },
  {
   "cell_type": "markdown",
   "id": "baca8d95",
   "metadata": {},
   "source": [
    "\n",
    "\n",
    "- **`np.linspace`**: Returns an array of evenly spaced values over a specified range, where you can define the number of points.\n"
   ]
  },
  {
   "cell_type": "code",
   "execution_count": 2,
   "id": "848d9c45",
   "metadata": {},
   "outputs": [
    {
     "data": {
      "text/plain": [
       "array([0.  , 0.25, 0.5 , 0.75, 1.  ])"
      ]
     },
     "execution_count": 2,
     "metadata": {},
     "output_type": "execute_result"
    }
   ],
   "source": [
    "arr = np.linspace(0, 1, 5)\n",
    "arr"
   ]
  },
  {
   "cell_type": "code",
   "execution_count": 5,
   "id": "5cd8bd78",
   "metadata": {},
   "outputs": [
    {
     "data": {
      "text/plain": [
       "array([ 0.,  5., 10., 15., 20.])"
      ]
     },
     "execution_count": 5,
     "metadata": {},
     "output_type": "execute_result"
    }
   ],
   "source": [
    "arr = np.linspace(0, 20, 5)\n",
    "arr"
   ]
  },
  {
   "cell_type": "code",
   "execution_count": 8,
   "id": "4ec35bce",
   "metadata": {},
   "outputs": [
    {
     "data": {
      "text/plain": [
       "(array([ 1.  ,  8.25, 15.5 , 22.75, 30.  ]), 7.25)"
      ]
     },
     "execution_count": 8,
     "metadata": {},
     "output_type": "execute_result"
    }
   ],
   "source": [
    "np.linspace(1, 30, num=5, retstep=True)"
   ]
  },
  {
   "cell_type": "markdown",
   "id": "6ebea572",
   "metadata": {},
   "source": [
    "- **`np.arange`**: Returns an array with evenly spaced values within a specified range.\n"
   ]
  },
  {
   "cell_type": "code",
   "execution_count": 41,
   "id": "48014296",
   "metadata": {},
   "outputs": [
    {
     "data": {
      "text/plain": [
       "array([0, 1, 2, 3, 4, 5, 6, 7, 8, 9])"
      ]
     },
     "execution_count": 41,
     "metadata": {},
     "output_type": "execute_result"
    }
   ],
   "source": [
    "arr = np.arange(0, 10)\n",
    "arr\n"
   ]
  },
  {
   "cell_type": "code",
   "execution_count": 42,
   "id": "6cb42f55",
   "metadata": {},
   "outputs": [
    {
     "data": {
      "text/plain": [
       "array([ 0,  2,  4,  6,  8, 10, 12, 14, 16, 18, 20, 22, 24, 26, 28, 30, 32,\n",
       "       34, 36, 38, 40, 42, 44, 46, 48, 50, 52, 54, 56, 58, 60, 62, 64, 66,\n",
       "       68, 70, 72, 74, 76, 78, 80, 82, 84, 86, 88, 90, 92, 94, 96, 98])"
      ]
     },
     "execution_count": 42,
     "metadata": {},
     "output_type": "execute_result"
    }
   ],
   "source": [
    "arr = np.arange(0, 100, 2)\n",
    "arr"
   ]
  },
  {
   "cell_type": "code",
   "execution_count": 43,
   "id": "6978f0e0",
   "metadata": {},
   "outputs": [
    {
     "data": {
      "text/plain": [
       "array([ 0,  2,  4,  6,  8, 10, 12])"
      ]
     },
     "execution_count": 43,
     "metadata": {},
     "output_type": "execute_result"
    }
   ],
   "source": [
    "arr[0:7]"
   ]
  },
  {
   "cell_type": "markdown",
   "id": "65292457",
   "metadata": {},
   "source": [
    "\n",
    "- **`np.random.random`**: Returns an array of random float numbers between 0 and 1 with a specified shape.\n"
   ]
  },
  {
   "cell_type": "code",
   "execution_count": 44,
   "id": "6e3f3200",
   "metadata": {},
   "outputs": [
    {
     "data": {
      "text/plain": [
       "array([0.83132899, 0.62244802])"
      ]
     },
     "execution_count": 44,
     "metadata": {},
     "output_type": "execute_result"
    }
   ],
   "source": [
    "arr = np.random.random(2)\n",
    "arr"
   ]
  },
  {
   "cell_type": "code",
   "execution_count": 45,
   "id": "5af663ba",
   "metadata": {},
   "outputs": [
    {
     "data": {
      "text/plain": [
       "array([[0.5149957 , 0.89072198, 0.63850039, 0.39302396],\n",
       "       [0.38450142, 0.17935874, 0.17906248, 0.76745543],\n",
       "       [0.14021109, 0.99098683, 0.43920458, 0.05044245]])"
      ]
     },
     "execution_count": 45,
     "metadata": {},
     "output_type": "execute_result"
    }
   ],
   "source": [
    "np.random.random((3, 4))"
   ]
  },
  {
   "cell_type": "code",
   "execution_count": 46,
   "id": "9ecd9de8",
   "metadata": {},
   "outputs": [
    {
     "ename": "TypeError",
     "evalue": "random() takes at most 1 positional argument (3 given)",
     "output_type": "error",
     "traceback": [
      "\u001b[1;31m---------------------------------------------------------------------------\u001b[0m",
      "\u001b[1;31mTypeError\u001b[0m                                 Traceback (most recent call last)",
      "Cell \u001b[1;32mIn[46], line 1\u001b[0m\n\u001b[1;32m----> 1\u001b[0m np\u001b[38;5;241m.\u001b[39mrandom\u001b[38;5;241m.\u001b[39mrandom(\u001b[38;5;241m1\u001b[39m, \u001b[38;5;241m50\u001b[39m, \u001b[38;5;241m6\u001b[39m)\n",
      "File \u001b[1;32mnumpy\\\\random\\\\mtrand.pyx:439\u001b[0m, in \u001b[0;36mnumpy.random.mtrand.RandomState.random\u001b[1;34m()\u001b[0m\n",
      "\u001b[1;31mTypeError\u001b[0m: random() takes at most 1 positional argument (3 given)"
     ]
    }
   ],
   "source": [
    "np.random.random(1, 50, 6)"
   ]
  },
  {
   "cell_type": "code",
   "execution_count": null,
   "id": "b51df942",
   "metadata": {},
   "outputs": [],
   "source": []
  },
  {
   "cell_type": "markdown",
   "id": "d31df854",
   "metadata": {},
   "source": [
    "\n",
    "- **`np.random.randint`**: Generates an array of random integers within a specified range, with a defined shape.\n"
   ]
  },
  {
   "cell_type": "code",
   "execution_count": 47,
   "id": "48ec3879",
   "metadata": {},
   "outputs": [
    {
     "data": {
      "text/plain": [
       "7"
      ]
     },
     "execution_count": 47,
     "metadata": {},
     "output_type": "execute_result"
    }
   ],
   "source": [
    "arr = np.random.randint(0, 10)\n",
    "arr"
   ]
  },
  {
   "cell_type": "code",
   "execution_count": 48,
   "id": "d14e9939",
   "metadata": {},
   "outputs": [
    {
     "data": {
      "text/plain": [
       "array([4, 8, 8, 1, 3, 4])"
      ]
     },
     "execution_count": 48,
     "metadata": {},
     "output_type": "execute_result"
    }
   ],
   "source": [
    "arr = np.random.randint(0, 10, 6)\n",
    "arr"
   ]
  },
  {
   "cell_type": "code",
   "execution_count": 49,
   "id": "06869e78",
   "metadata": {},
   "outputs": [
    {
     "data": {
      "text/plain": [
       "array([[47, 16, 60, 36, 77, 96],\n",
       "       [20, 65, 34,  2, 65, 34],\n",
       "       [60, 81, 24, 32, 45, 42]])"
      ]
     },
     "execution_count": 49,
     "metadata": {},
     "output_type": "execute_result"
    }
   ],
   "source": [
    "np.random.randint(1, 100, size=(3, 6))\n",
    "# 3 is num of row\n",
    "#  6 num of col"
   ]
  },
  {
   "cell_type": "code",
   "execution_count": 50,
   "id": "5f9af2c0",
   "metadata": {},
   "outputs": [
    {
     "data": {
      "text/plain": [
       "array([[[50, 47, 71, 18],\n",
       "        [16, 55,  7, 19],\n",
       "        [47, 13, 71, 94],\n",
       "        [ 1, 28, 72, 77],\n",
       "        [77, 71, 12, 38],\n",
       "        [34, 26, 86,  5]],\n",
       "\n",
       "       [[22, 20, 86, 46],\n",
       "        [58, 91, 89, 41],\n",
       "        [13, 61,  6, 53],\n",
       "        [20, 73, 23, 64],\n",
       "        [48, 41, 97, 25],\n",
       "        [94, 48, 86, 98]],\n",
       "\n",
       "       [[63, 20, 93, 30],\n",
       "        [40, 42, 41, 86],\n",
       "        [13, 80, 95, 74],\n",
       "        [78, 56, 46, 85],\n",
       "        [77, 17, 16, 58],\n",
       "        [60, 29, 56, 85]]])"
      ]
     },
     "execution_count": 50,
     "metadata": {},
     "output_type": "execute_result"
    }
   ],
   "source": [
    "np.random.randint(1, 100, size=(3, 6, 4))\n",
    "#  3 is num matreix\n",
    "#  6 is n rows and 4 is n cols"
   ]
  },
  {
   "cell_type": "markdown",
   "id": "5bfe46bb",
   "metadata": {},
   "source": [
    "\n",
    "- **`np.random.rand()`**: Returns a random float number between 0 and 1.\n",
    "\n",
    "The `rand()` function generates random numbers from a uniform distribution over the interval [0, 1). You can specify the shape of the output array."
   ]
  },
  {
   "cell_type": "code",
   "execution_count": 51,
   "id": "8571eda4",
   "metadata": {},
   "outputs": [
    {
     "data": {
      "text/plain": [
       "0.7407834850919429"
      ]
     },
     "execution_count": 51,
     "metadata": {},
     "output_type": "execute_result"
    }
   ],
   "source": [
    "np.random.rand()"
   ]
  },
  {
   "cell_type": "code",
   "execution_count": 52,
   "id": "2986cc24",
   "metadata": {},
   "outputs": [
    {
     "data": {
      "text/plain": [
       "array([0.95697019, 0.67825021, 0.64047113, 0.01688786, 0.57134385,\n",
       "       0.57272712, 0.0767637 , 0.13810313, 0.80279171, 0.30048646,\n",
       "       0.76192702, 0.45702715, 0.69292646, 0.33026299, 0.25773429])"
      ]
     },
     "execution_count": 52,
     "metadata": {},
     "output_type": "execute_result"
    }
   ],
   "source": [
    "np.random.rand(15)"
   ]
  },
  {
   "cell_type": "code",
   "execution_count": 53,
   "id": "626cc279",
   "metadata": {},
   "outputs": [
    {
     "data": {
      "text/plain": [
       "array([[0.30561439, 0.2970974 ],\n",
       "       [0.43777276, 0.66151346],\n",
       "       [0.92556491, 0.807772  ],\n",
       "       [0.56131113, 0.32536229],\n",
       "       [0.00385748, 0.06905026],\n",
       "       [0.80386826, 0.31321035]])"
      ]
     },
     "execution_count": 53,
     "metadata": {},
     "output_type": "execute_result"
    }
   ],
   "source": [
    "np.random.rand(6, 2)"
   ]
  },
  {
   "cell_type": "code",
   "execution_count": 54,
   "id": "14008bd8",
   "metadata": {},
   "outputs": [
    {
     "data": {
      "text/plain": [
       "array([[[0.52100952, 0.08234169],\n",
       "        [0.96127324, 0.51175863],\n",
       "        [0.62014095, 0.71109284],\n",
       "        [0.37563643, 0.7466189 ],\n",
       "        [0.64912717, 0.66498203],\n",
       "        [0.92087481, 0.19520187]],\n",
       "\n",
       "       [[0.00645547, 0.94479499],\n",
       "        [0.25004584, 0.51708205],\n",
       "        [0.0715918 , 0.50638825],\n",
       "        [0.08494928, 0.8363789 ],\n",
       "        [0.67744791, 0.43680427],\n",
       "        [0.28845098, 0.50335823]],\n",
       "\n",
       "       [[0.94243431, 0.01012649],\n",
       "        [0.69730536, 0.08729183],\n",
       "        [0.25825253, 0.57532119],\n",
       "        [0.55700506, 0.13917815],\n",
       "        [0.14232493, 0.1262439 ],\n",
       "        [0.32428943, 0.08465649]],\n",
       "\n",
       "       [[0.15927355, 0.24332263],\n",
       "        [0.25126754, 0.0811254 ],\n",
       "        [0.32427468, 0.33347819],\n",
       "        [0.32639264, 0.42894158],\n",
       "        [0.72406334, 0.4802626 ],\n",
       "        [0.15647443, 0.41432929]]])"
      ]
     },
     "execution_count": 54,
     "metadata": {},
     "output_type": "execute_result"
    }
   ],
   "source": [
    "np.random.rand(4, 6, 2)"
   ]
  },
  {
   "cell_type": "markdown",
   "id": "4351169b",
   "metadata": {},
   "source": [
    "- **`np.random.uniform`**: Generates random numbers using a uniform distribution between the low and high values, and always returns floating-point numbers (float)."
   ]
  },
  {
   "cell_type": "code",
   "execution_count": 3,
   "id": "c6a0a1d6",
   "metadata": {},
   "outputs": [
    {
     "data": {
      "text/plain": [
       "0.5457159114636012"
      ]
     },
     "execution_count": 3,
     "metadata": {},
     "output_type": "execute_result"
    }
   ],
   "source": [
    "np.random.uniform()"
   ]
  },
  {
   "cell_type": "code",
   "execution_count": 5,
   "id": "f4611897",
   "metadata": {},
   "outputs": [
    {
     "data": {
      "text/plain": [
       "81.32906061683013"
      ]
     },
     "execution_count": 5,
     "metadata": {},
     "output_type": "execute_result"
    }
   ],
   "source": [
    "np.random.uniform(1, 100)"
   ]
  },
  {
   "cell_type": "code",
   "execution_count": 6,
   "id": "aea4cad1",
   "metadata": {},
   "outputs": [
    {
     "data": {
      "text/plain": [
       "array([ 4.4371207 , 84.67306318, 55.63143783])"
      ]
     },
     "execution_count": 6,
     "metadata": {},
     "output_type": "execute_result"
    }
   ],
   "source": [
    "np.random.uniform(1, 100, 3)"
   ]
  },
  {
   "cell_type": "code",
   "execution_count": 7,
   "id": "81350ed7",
   "metadata": {},
   "outputs": [
    {
     "data": {
      "text/plain": [
       "array([1.66278246, 8.56786679])"
      ]
     },
     "execution_count": 7,
     "metadata": {},
     "output_type": "execute_result"
    }
   ],
   "source": [
    "np.random.uniform((3, 10))"
   ]
  },
  {
   "cell_type": "code",
   "execution_count": 8,
   "id": "3443890d",
   "metadata": {},
   "outputs": [
    {
     "data": {
      "text/plain": [
       "array([[94.65108787, 42.20047143,  4.03512953],\n",
       "       [61.66822388, 11.45474802, 31.91095033],\n",
       "       [70.82868548, 35.06059775, 53.20833247]])"
      ]
     },
     "execution_count": 8,
     "metadata": {},
     "output_type": "execute_result"
    }
   ],
   "source": [
    "np.random.uniform(1, 100, (3, 3))"
   ]
  },
  {
   "cell_type": "markdown",
   "id": "fb4dc8a2",
   "metadata": {},
   "source": [
    "\n",
    "- **`np.max`**: Returns the maximum value in an array.\n",
    "\n",
    "- **`np.min`**: Returns the minimum value in an array.\n",
    "\n",
    "- **`np.mean`**: Calculates the average of the values in the array.\n",
    "\n",
    "- **`np.sum`**: Returns the sum of all elements in the array.\n",
    "\n",
    "- **`np.std`**: Calculates the standard deviation of the values in the array."
   ]
  },
  {
   "cell_type": "markdown",
   "id": "4b73a9d2",
   "metadata": {},
   "source": [
    "# <img src=\"https://numpy.org/devdocs/_images/np_matrix_aggregation.png\" /> "
   ]
  },
  {
   "cell_type": "markdown",
   "id": "bbaf1cc0",
   "metadata": {},
   "source": [
    "**` Max, Min, Mean, Sum, Standard Deviation of a 1D array`**"
   ]
  },
  {
   "cell_type": "code",
   "execution_count": 60,
   "id": "347bf0da",
   "metadata": {},
   "outputs": [
    {
     "data": {
      "text/plain": [
       "array([8, 3, 2, 7, 4, 5, 7])"
      ]
     },
     "execution_count": 60,
     "metadata": {},
     "output_type": "execute_result"
    }
   ],
   "source": [
    "array_1d = np.random.randint(0, 10, 7)\n",
    "array_1d"
   ]
  },
  {
   "cell_type": "code",
   "execution_count": 61,
   "id": "d026ac2d",
   "metadata": {},
   "outputs": [
    {
     "data": {
      "text/plain": [
       "8"
      ]
     },
     "execution_count": 61,
     "metadata": {},
     "output_type": "execute_result"
    }
   ],
   "source": [
    "array_1d.max()"
   ]
  },
  {
   "cell_type": "code",
   "execution_count": 62,
   "id": "5cdd355b",
   "metadata": {},
   "outputs": [
    {
     "data": {
      "text/plain": [
       "2"
      ]
     },
     "execution_count": 62,
     "metadata": {},
     "output_type": "execute_result"
    }
   ],
   "source": [
    "array_1d.min()"
   ]
  },
  {
   "cell_type": "code",
   "execution_count": 63,
   "id": "510cf7ef",
   "metadata": {},
   "outputs": [
    {
     "data": {
      "text/plain": [
       "5.142857142857143"
      ]
     },
     "execution_count": 63,
     "metadata": {},
     "output_type": "execute_result"
    }
   ],
   "source": [
    "array_1d.mean()"
   ]
  },
  {
   "cell_type": "code",
   "execution_count": 64,
   "id": "5b13d948",
   "metadata": {},
   "outputs": [
    {
     "data": {
      "text/plain": [
       "36"
      ]
     },
     "execution_count": 64,
     "metadata": {},
     "output_type": "execute_result"
    }
   ],
   "source": [
    "array_1d.sum()"
   ]
  },
  {
   "cell_type": "code",
   "execution_count": 65,
   "id": "78b01370",
   "metadata": {},
   "outputs": [
    {
     "data": {
      "text/plain": [
       "2.0995626366712954"
      ]
     },
     "execution_count": 65,
     "metadata": {},
     "output_type": "execute_result"
    }
   ],
   "source": [
    "array_1d.std()"
   ]
  },
  {
   "cell_type": "markdown",
   "id": "a7605562",
   "metadata": {},
   "source": [
    "**` Max, Min, Mean, Sum, Standard Deviation of a 2D array`**"
   ]
  },
  {
   "cell_type": "code",
   "execution_count": 66,
   "id": "e5c509db",
   "metadata": {},
   "outputs": [
    {
     "data": {
      "text/plain": [
       "array([[6, 4, 3],\n",
       "       [5, 8, 3]])"
      ]
     },
     "execution_count": 66,
     "metadata": {},
     "output_type": "execute_result"
    }
   ],
   "source": [
    "array_2d = np.random.randint(0, 10, (2, 3))\n",
    "array_2d"
   ]
  },
  {
   "cell_type": "code",
   "execution_count": 67,
   "id": "dd1ed7c9",
   "metadata": {},
   "outputs": [
    {
     "data": {
      "text/plain": [
       "array([13, 16])"
      ]
     },
     "execution_count": 67,
     "metadata": {},
     "output_type": "execute_result"
    }
   ],
   "source": [
    "array_2d.max()\n",
    "# Output: 9\n",
    "\n",
    "array_2d.max(axis=0)\n",
    "# axis=0 means column wise\n",
    "# Output: array([9, 8, 7])\n",
    "\n",
    "array_2d.max(axis=1)\n",
    "# axis=1 means row wise\n",
    "# Output: array([7, 9, 8])\n",
    "\n",
    "array_2d.min(axis=0)\n",
    "# Output: array([1, 2, 3])\n",
    "\n",
    "array_2d.min(axis=1)\n",
    "# Output: array([1, 3, 2])\n",
    "\n",
    "array_2d.mean(axis=0)\n",
    "# Output: array([5., 5., 5.])\n",
    "\n",
    "array_2d.mean(axis=1)\n",
    "# Output: array([4., 6., 5.])\n",
    "\n",
    "array_2d.sum(axis=0)\n",
    "# Output: array([15, 15, 15])\n",
    "\n",
    "array_2d.sum(axis=1)\n",
    "# Output: array([10, 18, 15])"
   ]
  },
  {
   "cell_type": "markdown",
   "id": "3741c603",
   "metadata": {},
   "source": [
    "\n",
    "- **`argmax()`**: Returns the index of the maximum value in the array .\n",
    "\n",
    "- **`argmin()`**: Returns the index of the minimum value in the array .\n"
   ]
  },
  {
   "cell_type": "code",
   "execution_count": 68,
   "id": "b5097b70",
   "metadata": {},
   "outputs": [
    {
     "data": {
      "text/plain": [
       "array([[1, 2, 3],\n",
       "       [4, 5, 6]])"
      ]
     },
     "execution_count": 68,
     "metadata": {},
     "output_type": "execute_result"
    }
   ],
   "source": [
    "b"
   ]
  },
  {
   "cell_type": "code",
   "execution_count": 69,
   "id": "abc50ac1",
   "metadata": {},
   "outputs": [
    {
     "data": {
      "text/plain": [
       "5"
      ]
     },
     "execution_count": 69,
     "metadata": {},
     "output_type": "execute_result"
    }
   ],
   "source": [
    "b.argmax()"
   ]
  },
  {
   "cell_type": "code",
   "execution_count": 70,
   "id": "7c61fee1",
   "metadata": {},
   "outputs": [
    {
     "data": {
      "text/plain": [
       "0"
      ]
     },
     "execution_count": 70,
     "metadata": {},
     "output_type": "execute_result"
    }
   ],
   "source": [
    "b.argmin()"
   ]
  },
  {
   "cell_type": "markdown",
   "id": "870ca5b6",
   "metadata": {},
   "source": [
    "- **Arithmetic operations on a 1D array**"
   ]
  },
  {
   "cell_type": "markdown",
   "id": "1e7908d6",
   "metadata": {},
   "source": [
    "# <img src=\"https://numpy.org/devdocs/_images/np_sub_mult_divide.png\" />\n"
   ]
  },
  {
   "cell_type": "code",
   "execution_count": 71,
   "id": "c6983c17",
   "metadata": {},
   "outputs": [
    {
     "data": {
      "text/plain": [
       "array([0, 1, 1, 2, 2], dtype=int32)"
      ]
     },
     "execution_count": 71,
     "metadata": {},
     "output_type": "execute_result"
    }
   ],
   "source": [
    "a = np.array([1, 2, 3, 4, 5])\n",
    "\n",
    "a + 10\n",
    "# Output: array([11, 12, 13, 14, 15])\n",
    "a - 10\n",
    "# Output: array([-9, -8, -7, -6, -5])\n",
    "a * 10\n",
    "# Output: array([10, 20, 30, 40, 50])\n",
    "a / 10\n",
    "# Output: array([0.1, 0.2, 0.3, 0.4, 0.5])\n",
    "a**2\n",
    "# Output: array([ 1,  4,  9, 16, 25])\n",
    "a % 2\n",
    "# Output: array([1, 0, 1, 0, 1])\n",
    "a // 2\n",
    "# Output: array([0, 1, 1, 2, 2])"
   ]
  },
  {
   "cell_type": "markdown",
   "id": "d646b40f",
   "metadata": {},
   "source": [
    "- **Mathematical operations on a 1D array**"
   ]
  },
  {
   "cell_type": "code",
   "execution_count": 72,
   "id": "3945c1e7",
   "metadata": {},
   "outputs": [
    {
     "name": "stderr",
     "output_type": "stream",
     "text": [
      "C:\\Users\\AL-MOSTAFA\\AppData\\Local\\Temp\\ipykernel_14772\\1094679551.py:5: RuntimeWarning: invalid value encountered in sqrt\n",
      "  np.sqrt(a)\n"
     ]
    },
    {
     "data": {
      "text/plain": [
       "array([-1, -1,  0,  1,  1])"
      ]
     },
     "execution_count": 72,
     "metadata": {},
     "output_type": "execute_result"
    }
   ],
   "source": [
    "a = np.array([-2, -1, 0, 1, 2])\n",
    "\n",
    "np.square(a)\n",
    "# Output: array([4, 1, 0, 1, 4])\n",
    "np.sqrt(a)\n",
    "# Output: array([nan, nan, 0. , 1. , 1.41421356])\n",
    "np.sin(a)\n",
    "# Output: array([-0.9092, -0.8414,  0.  , 0.8414,  0.9092])\n",
    "np.cos(a)\n",
    "# Output: array([-0.4161,  0.5403,  1.  , 0.5403, -0.4161])\n",
    "np.tan(a)\n",
    "# Output: array([ 2.1850, -1.5574,  0.   , 1.5574, -2.1850])\n",
    "np.sign(a)\n",
    "# Output: array([-1, -1,  0,  1,  1])"
   ]
  },
  {
   "cell_type": "markdown",
   "id": "861e7fed",
   "metadata": {},
   "source": [
    "When you use the sin()..etc function in NumPy (or any similar function in Python), the angle is expected to be in radians, not degrees. If you provide an angle in degrees, you need to convert it to radians before applying the trigonometric function."
   ]
  },
  {
   "cell_type": "code",
   "execution_count": 73,
   "id": "32f84f06",
   "metadata": {},
   "outputs": [
    {
     "data": {
      "text/plain": [
       "-0.9880316240928618"
      ]
     },
     "execution_count": 73,
     "metadata": {},
     "output_type": "execute_result"
    }
   ],
   "source": [
    "a = sin(30)\n",
    "a"
   ]
  },
  {
   "cell_type": "code",
   "execution_count": 74,
   "id": "7a1ecbd4",
   "metadata": {},
   "outputs": [
    {
     "name": "stdout",
     "output_type": "stream",
     "text": [
      "0.49999999999999994\n"
     ]
    }
   ],
   "source": [
    "# Convert the angle from degrees to radians\n",
    "angle_radians = np.radians(30)\n",
    "\n",
    "# Calculate the sine of the angle in degrees\n",
    "a = np.sin(angle_radians)\n",
    "print(a)\n"
   ]
  },
  {
   "cell_type": "code",
   "execution_count": 75,
   "id": "8fd9d35b",
   "metadata": {},
   "outputs": [
    {
     "name": "stdout",
     "output_type": "stream",
     "text": [
      "0.49999999999999994\n"
     ]
    }
   ],
   "source": [
    "# Convert 30 to radians\n",
    "a = np.sin(30 * np.pi / 180)\n",
    "print(a)\n"
   ]
  },
  {
   "cell_type": "code",
   "execution_count": 76,
   "id": "264651b8",
   "metadata": {},
   "outputs": [
    {
     "data": {
      "text/plain": [
       "0.707"
      ]
     },
     "execution_count": 76,
     "metadata": {},
     "output_type": "execute_result"
    }
   ],
   "source": [
    "a = sin(deg2rad(45))\n",
    "a.round(3)"
   ]
  },
  {
   "cell_type": "markdown",
   "id": "99498e7d",
   "metadata": {},
   "source": [
    "- **Arithmetic on multiple arrays & dot product**"
   ]
  },
  {
   "cell_type": "code",
   "execution_count": 77,
   "id": "87707bad",
   "metadata": {},
   "outputs": [
    {
     "data": {
      "text/plain": [
       "32"
      ]
     },
     "execution_count": 77,
     "metadata": {},
     "output_type": "execute_result"
    }
   ],
   "source": [
    "a = np.array([1, 2, 3])\n",
    "b = np.array([4, 5, 6])\n",
    "\n",
    "np.add(a, b)  \n",
    "# Output: array([5, 7, 9])\n",
    "np.subtract(a, b)  \n",
    "# Output: array([-3, -3, -3])\n",
    "np.multiply(a, b)  \n",
    "# Output: array([ 4, 10, 18])\n",
    "np.divide(a, b)  \n",
    "# Output: array([0.25, 0.4 , 0.5 ])\n",
    "np.dot(a, b)  \n",
    "# Output: 32\n"
   ]
  },
  {
   "cell_type": "markdown",
   "id": "eda75da7",
   "metadata": {},
   "source": [
    "- **Array comparison**"
   ]
  },
  {
   "cell_type": "code",
   "execution_count": 78,
   "id": "cc8710ac",
   "metadata": {},
   "outputs": [
    {
     "data": {
      "text/plain": [
       "array([False,  True, False])"
      ]
     },
     "execution_count": 78,
     "metadata": {},
     "output_type": "execute_result"
    }
   ],
   "source": [
    "a = np.array([1, 2, 3])\n",
    "b = np.array([4, 2, 6])\n",
    "\n",
    "a == b  \n",
    "# Output: array([False,  True, False])\n"
   ]
  },
  {
   "cell_type": "code",
   "execution_count": 79,
   "id": "8ffdfb2f",
   "metadata": {},
   "outputs": [
    {
     "data": {
      "text/plain": [
       "False"
      ]
     },
     "execution_count": 79,
     "metadata": {},
     "output_type": "execute_result"
    }
   ],
   "source": [
    "np.array_equal(a, b)  \n",
    "# Output: False"
   ]
  },
  {
   "cell_type": "markdown",
   "id": "9bfd41e7",
   "metadata": {},
   "source": [
    "- **Accessing elements in a 1D array**"
   ]
  },
  {
   "cell_type": "code",
   "execution_count": 80,
   "id": "72649c67",
   "metadata": {},
   "outputs": [
    {
     "data": {
      "text/plain": [
       "1"
      ]
     },
     "execution_count": 80,
     "metadata": {},
     "output_type": "execute_result"
    }
   ],
   "source": [
    "a = np.array([1, 2, 3, 4, 5])\n",
    "\n",
    "a[0]  \n"
   ]
  },
  {
   "cell_type": "code",
   "execution_count": 81,
   "id": "f438542b",
   "metadata": {},
   "outputs": [
    {
     "data": {
      "text/plain": [
       "array([2, 3, 4])"
      ]
     },
     "execution_count": 81,
     "metadata": {},
     "output_type": "execute_result"
    }
   ],
   "source": [
    "a[1:4]  "
   ]
  },
  {
   "cell_type": "code",
   "execution_count": 82,
   "id": "7a6c0409",
   "metadata": {},
   "outputs": [
    {
     "name": "stdout",
     "output_type": "stream",
     "text": [
      "5\n"
     ]
    },
    {
     "data": {
      "text/plain": [
       "4"
      ]
     },
     "execution_count": 82,
     "metadata": {},
     "output_type": "execute_result"
    }
   ],
   "source": [
    "print(a[-1])   # last element\n",
    "a[-2]   # second last element"
   ]
  },
  {
   "cell_type": "markdown",
   "id": "f598d1c2",
   "metadata": {},
   "source": [
    "- **Accessing elements in a 2D array**"
   ]
  },
  {
   "cell_type": "code",
   "execution_count": 83,
   "id": "46469004",
   "metadata": {},
   "outputs": [
    {
     "data": {
      "text/plain": [
       "array([1, 2, 3])"
      ]
     },
     "execution_count": 83,
     "metadata": {},
     "output_type": "execute_result"
    }
   ],
   "source": [
    "a = np.array([[1, 2, 3], [4, 5, 6]])\n",
    "\n",
    "a[0]  "
   ]
  },
  {
   "cell_type": "code",
   "execution_count": 84,
   "id": "ee7c6a15",
   "metadata": {},
   "outputs": [
    {
     "data": {
      "text/plain": [
       "2"
      ]
     },
     "execution_count": 84,
     "metadata": {},
     "output_type": "execute_result"
    }
   ],
   "source": [
    "a[0][1]  "
   ]
  },
  {
   "cell_type": "code",
   "execution_count": 85,
   "id": "5e0eb549",
   "metadata": {},
   "outputs": [
    {
     "data": {
      "text/plain": [
       "6"
      ]
     },
     "execution_count": 85,
     "metadata": {},
     "output_type": "execute_result"
    }
   ],
   "source": [
    "a[1][2]"
   ]
  },
  {
   "cell_type": "markdown",
   "metadata": {},
   "source": [
    "### **1D Array Slicing**\n",
    "In NumPy, **slicing** allows you to extract specific parts of an array without having to manually loop through the elements. The slicing operation uses the syntax:\n",
    "\n",
    "```python\n",
    "array[start:stop:step]\n",
    "```\n",
    "Where:\n",
    "- **`start`** is the index to start slicing (inclusive).\n",
    "- **`stop`** is the index to end slicing (exclusive).\n",
    "- **`step`** is the interval between each element to be selected."
   ]
  },
  {
   "cell_type": "code",
   "execution_count": 86,
   "id": "3b31dee0",
   "metadata": {},
   "outputs": [
    {
     "data": {
      "text/plain": [
       "array([5, 6, 2, 1, 1, 4, 1, 5, 8, 4])"
      ]
     },
     "execution_count": 86,
     "metadata": {},
     "output_type": "execute_result"
    }
   ],
   "source": [
    "arr = np.random.randint(1,10,10)\n",
    "arr"
   ]
  },
  {
   "cell_type": "code",
   "execution_count": null,
   "id": "1a5aa39f",
   "metadata": {},
   "outputs": [
    {
     "name": "stdout",
     "output_type": "stream",
     "text": [
      "[2 1 1 4 1]\n"
     ]
    }
   ],
   "source": [
    "# Slice from index 2 to 7 (exclusive)\n",
    "sliced_arr = arr[2:7]\n",
    "\n",
    "print(sliced_arr)"
   ]
  },
  {
   "cell_type": "code",
   "execution_count": 88,
   "id": "d6de1312",
   "metadata": {},
   "outputs": [
    {
     "name": "stdout",
     "output_type": "stream",
     "text": [
      "[2 1 1]\n"
     ]
    }
   ],
   "source": [
    "# Slice from index 2 to 7 (exclusive), step 2\n",
    "\n",
    "sliced_arr = arr[2:7:2] \n",
    "\n",
    "print(sliced_arr)"
   ]
  },
  {
   "cell_type": "code",
   "execution_count": 89,
   "id": "26f7d5dd",
   "metadata": {},
   "outputs": [
    {
     "data": {
      "text/plain": [
       "array([5, 6, 2, 1, 1, 4, 1, 5, 8, 4])"
      ]
     },
     "execution_count": 89,
     "metadata": {},
     "output_type": "execute_result"
    }
   ],
   "source": [
    "arr[:]  # Selects all elements"
   ]
  },
  {
   "cell_type": "markdown",
   "id": "1950a608",
   "metadata": {},
   "source": [
    "### **2D Array Slicing**\n",
    "\n",
    "For a **2D array**, you can slice rows and columns separately. The syntax becomes:\n",
    "\n",
    "```python\n",
    "array[start_row:stop_row:step_row, start_col:stop_col:step_col]\n",
    "```\n",
    "\n",
    "- **`start_row:stop_row:step_row`**: Slices the rows.\n",
    "- **`start_col:stop_col:step_col`**: Slices the columns."
   ]
  },
  {
   "cell_type": "code",
   "execution_count": 13,
   "id": "bf3e0e0a",
   "metadata": {},
   "outputs": [
    {
     "data": {
      "text/plain": [
       "array([[21, 13, 18, 24],\n",
       "       [ 1,  1,  3, 16],\n",
       "       [21, 13, 12,  2],\n",
       "       [ 1, 16,  7, 18]])"
      ]
     },
     "execution_count": 13,
     "metadata": {},
     "output_type": "execute_result"
    }
   ],
   "source": [
    "arr = np.random.randint(1,25,(4,4))\n",
    "arr"
   ]
  },
  {
   "cell_type": "code",
   "execution_count": 14,
   "id": "dbe06b8b",
   "metadata": {},
   "outputs": [
    {
     "name": "stdout",
     "output_type": "stream",
     "text": [
      "[[13 18]\n",
      " [ 1  3]\n",
      " [13 12]]\n"
     ]
    }
   ],
   "source": [
    "sliced_arr_2d = arr[0:3, 1:3]\n",
    "print(sliced_arr_2d)"
   ]
  },
  {
   "cell_type": "code",
   "execution_count": 15,
   "id": "3ed71844",
   "metadata": {},
   "outputs": [
    {
     "name": "stdout",
     "output_type": "stream",
     "text": [
      "[[21 13 18 24]\n",
      " [ 1  1  3 16]\n",
      " [21 13 12  2]\n",
      " [ 1 16  7 18]]\n"
     ]
    }
   ],
   "source": [
    "sliced_arr_2d = arr[:,:] # Selects all elements.\n",
    "print(sliced_arr_2d)"
   ]
  },
  {
   "cell_type": "code",
   "execution_count": 16,
   "id": "36d2d5d6",
   "metadata": {},
   "outputs": [
    {
     "data": {
      "text/plain": [
       "array([[ 1, 16,  7, 18]])"
      ]
     },
     "execution_count": 16,
     "metadata": {},
     "output_type": "execute_result"
    }
   ],
   "source": [
    "arr[3:]  # Starts at index 3 and goes to the end."
   ]
  },
  {
   "cell_type": "code",
   "execution_count": 17,
   "id": "df4d0010",
   "metadata": {},
   "outputs": [
    {
     "data": {
      "text/plain": [
       "array([[13, 18],\n",
       "       [ 1,  3],\n",
       "       [13, 12]])"
      ]
     },
     "execution_count": 17,
     "metadata": {},
     "output_type": "execute_result"
    }
   ],
   "source": [
    "arr[:3,1:3]  # Selects elements from the beginning up to index 3 (exclusive)."
   ]
  },
  {
   "cell_type": "code",
   "execution_count": 18,
   "id": "8c486fc3",
   "metadata": {},
   "outputs": [
    {
     "data": {
      "text/plain": [
       "array([[21, 13, 18, 24],\n",
       "       [ 1,  1,  3, 16],\n",
       "       [21, 13, 12,  2],\n",
       "       [ 1, 16,  7, 18]])"
      ]
     },
     "execution_count": 18,
     "metadata": {},
     "output_type": "execute_result"
    }
   ],
   "source": [
    "arr"
   ]
  },
  {
   "cell_type": "code",
   "execution_count": 19,
   "id": "ac4ea7f3",
   "metadata": {},
   "outputs": [
    {
     "data": {
      "text/plain": [
       "array([[ 1, 16,  7, 18],\n",
       "       [21, 13, 12,  2],\n",
       "       [ 1,  1,  3, 16],\n",
       "       [21, 13, 18, 24]])"
      ]
     },
     "execution_count": 19,
     "metadata": {},
     "output_type": "execute_result"
    }
   ],
   "source": [
    "arr[::-1]  # Reverses the array."
   ]
  },
  {
   "cell_type": "markdown",
   "id": "425e871d",
   "metadata": {},
   "source": [
    "**reverses the elements of the array, starting from the last element and stepping backwards to the first element.**"
   ]
  },
  {
   "cell_type": "code",
   "execution_count": null,
   "id": "56b4d343",
   "metadata": {},
   "outputs": [],
   "source": [
    "\n",
    "arr = np.array([[0, 1, 2],\n",
    "                [3, 4, 5],\n",
    "                [6, 7, 8]])\n",
    "\n",
    "# Reversing rows (vertical reversal)\n",
    "reversed_rows = arr[::-1, :]\n",
    "print(\"Reversed rows:\")\n",
    "print(reversed_rows)\n",
    "\n",
    "# Reversing columns (horizontal reversal)\n",
    "reversed_columns = arr[:, ::-1]\n",
    "print(\"\\nReversed columns:\")\n",
    "print(reversed_columns)\n",
    "\n",
    "# Reversing both rows and columns\n",
    "reversed_both = arr[::-1, ::-1]\n",
    "print(\"\\nReversed both rows and columns:\")\n",
    "print(reversed_both)\n"
   ]
  },
  {
   "cell_type": "markdown",
   "id": "e411c612",
   "metadata": {},
   "source": [
    "# <img src=\"https://th.bing.com/th/id/OIP.2sMFUzhSVYNUT23g6ygBEQAAAA?rs=1&pid=ImgDetMain\" /> <br>"
   ]
  },
  {
   "cell_type": "code",
   "execution_count": 23,
   "id": "38fb723e",
   "metadata": {},
   "outputs": [
    {
     "data": {
      "text/plain": [
       "array([ 1,  5,  9,  7,  6,  3,  4,  7,  5,  1,  5, 12])"
      ]
     },
     "execution_count": 23,
     "metadata": {},
     "output_type": "execute_result"
    }
   ],
   "source": [
    "np.array(b)"
   ]
  },
  {
   "cell_type": "code",
   "execution_count": 20,
   "id": "2133576f",
   "metadata": {},
   "outputs": [
    {
     "data": {
      "text/plain": [
       "[1, 5, 9, 7, 6, 3, 4, 7, 5, 1, 5, 12]"
      ]
     },
     "execution_count": 20,
     "metadata": {},
     "output_type": "execute_result"
    }
   ],
   "source": [
    "b = [1, 5, 9, 7, 6, 3, 4, 7, 5, 1, 5,12]\n",
    "b"
   ]
  },
  {
   "cell_type": "code",
   "execution_count": 21,
   "id": "fc7fcab6",
   "metadata": {},
   "outputs": [
    {
     "data": {
      "text/plain": [
       "12"
      ]
     },
     "execution_count": 21,
     "metadata": {},
     "output_type": "execute_result"
    }
   ],
   "source": [
    "len(b)"
   ]
  },
  {
   "cell_type": "code",
   "execution_count": 22,
   "id": "a00de270",
   "metadata": {},
   "outputs": [
    {
     "data": {
      "text/plain": [
       "array([[ 1,  5,  9,  7,  6,  3,  4,  7,  5,  1,  5, 12]])"
      ]
     },
     "execution_count": 22,
     "metadata": {},
     "output_type": "execute_result"
    }
   ],
   "source": [
    "s = np.reshape(b, (1, 12))\n",
    "s"
   ]
  },
  {
   "cell_type": "code",
   "execution_count": 54,
   "id": "9bf436f7",
   "metadata": {},
   "outputs": [
    {
     "data": {
      "text/plain": [
       "array([ 1,  5,  9,  7,  6,  3,  4,  7,  5,  1,  5, 12])"
      ]
     },
     "execution_count": 54,
     "metadata": {},
     "output_type": "execute_result"
    }
   ],
   "source": [
    "c = np.array(b)\n",
    "c"
   ]
  },
  {
   "cell_type": "code",
   "execution_count": 58,
   "id": "3b01d40d",
   "metadata": {},
   "outputs": [],
   "source": [
    "c = c.reshape(3, 4)"
   ]
  },
  {
   "cell_type": "code",
   "execution_count": 59,
   "id": "49cb5d51",
   "metadata": {},
   "outputs": [
    {
     "data": {
      "text/plain": [
       "array([[ 1,  5,  9,  7],\n",
       "       [ 6,  3,  4,  7],\n",
       "       [ 5,  1,  5, 12]])"
      ]
     },
     "execution_count": 59,
     "metadata": {},
     "output_type": "execute_result"
    }
   ],
   "source": [
    "c"
   ]
  },
  {
   "cell_type": "code",
   "execution_count": 28,
   "id": "5d9441ea",
   "metadata": {},
   "outputs": [
    {
     "data": {
      "text/plain": [
       "12"
      ]
     },
     "execution_count": 28,
     "metadata": {},
     "output_type": "execute_result"
    }
   ],
   "source": [
    "len(c)"
   ]
  },
  {
   "cell_type": "code",
   "execution_count": 29,
   "id": "80c99535",
   "metadata": {},
   "outputs": [],
   "source": [
    "c= c.reshape(1, 12)"
   ]
  },
  {
   "cell_type": "markdown",
   "id": "061e3698",
   "metadata": {},
   "source": [
    "**Row × Column = Size: The reshaped array s has 1 row and 12 columns, which results in a size of 12 elements (1 * 12 = 12).**"
   ]
  },
  {
   "cell_type": "code",
   "execution_count": 33,
   "id": "5a970fc3",
   "metadata": {},
   "outputs": [
    {
     "data": {
      "text/plain": [
       "array([[ 1,  5,  9,  7,  6,  3],\n",
       "       [ 4,  7,  5,  1,  5, 12]])"
      ]
     },
     "execution_count": 33,
     "metadata": {},
     "output_type": "execute_result"
    }
   ],
   "source": [
    "c.reshape(2, 6)"
   ]
  },
  {
   "cell_type": "code",
   "execution_count": 34,
   "id": "39d0aac5",
   "metadata": {},
   "outputs": [
    {
     "data": {
      "text/plain": [
       "array([[ 1,  5,  9,  7],\n",
       "       [ 6,  3,  4,  7],\n",
       "       [ 5,  1,  5, 12]])"
      ]
     },
     "execution_count": 34,
     "metadata": {},
     "output_type": "execute_result"
    }
   ],
   "source": [
    "c.reshape(3, 4)"
   ]
  },
  {
   "cell_type": "code",
   "execution_count": 35,
   "id": "03d36be1",
   "metadata": {},
   "outputs": [
    {
     "data": {
      "text/plain": [
       "array([[ 1,  5,  9],\n",
       "       [ 7,  6,  3],\n",
       "       [ 4,  7,  5],\n",
       "       [ 1,  5, 12]])"
      ]
     },
     "execution_count": 35,
     "metadata": {},
     "output_type": "execute_result"
    }
   ],
   "source": [
    "c.reshape(4, 3)"
   ]
  },
  {
   "cell_type": "code",
   "execution_count": 36,
   "id": "81df1302",
   "metadata": {},
   "outputs": [
    {
     "data": {
      "text/plain": [
       "array([[ 1,  5],\n",
       "       [ 9,  7],\n",
       "       [ 6,  3],\n",
       "       [ 4,  7],\n",
       "       [ 5,  1],\n",
       "       [ 5, 12]])"
      ]
     },
     "execution_count": 36,
     "metadata": {},
     "output_type": "execute_result"
    }
   ],
   "source": [
    "c.reshape(6, 2)"
   ]
  },
  {
   "cell_type": "code",
   "execution_count": 39,
   "id": "753f9ee3",
   "metadata": {},
   "outputs": [
    {
     "data": {
      "text/plain": [
       "array([[[ 1,  5],\n",
       "        [ 9,  7],\n",
       "        [ 6,  3]],\n",
       "\n",
       "       [[ 4,  7],\n",
       "        [ 5,  1],\n",
       "        [ 5, 12]]])"
      ]
     },
     "execution_count": 39,
     "metadata": {},
     "output_type": "execute_result"
    }
   ],
   "source": [
    "c.reshape(2,3,2 )"
   ]
  },
  {
   "cell_type": "markdown",
   "id": "28635c23",
   "metadata": {},
   "source": [
    "**Row × Column × Depth = Size**"
   ]
  },
  {
   "cell_type": "code",
   "execution_count": 53,
   "id": "4b078538",
   "metadata": {},
   "outputs": [
    {
     "data": {
      "text/plain": [
       "array([[[ 1],\n",
       "        [ 5],\n",
       "        [ 9]],\n",
       "\n",
       "       [[ 7],\n",
       "        [ 6],\n",
       "        [ 3]],\n",
       "\n",
       "       [[ 4],\n",
       "        [ 7],\n",
       "        [ 5]],\n",
       "\n",
       "       [[ 1],\n",
       "        [ 5],\n",
       "        [12]]])"
      ]
     },
     "execution_count": 53,
     "metadata": {},
     "output_type": "execute_result"
    }
   ],
   "source": [
    "c.reshape(4,3 )\n",
    "c"
   ]
  },
  {
   "cell_type": "markdown",
   "id": "4a926594",
   "metadata": {},
   "source": [
    "- **The `flatten` function** returns a 1D array containing all the elements of the original array."
   ]
  },
  {
   "cell_type": "code",
   "execution_count": 47,
   "id": "9cbd5aa2",
   "metadata": {},
   "outputs": [
    {
     "data": {
      "text/plain": [
       "array([ 1,  5,  9,  7,  6,  3,  4,  7,  5,  1,  5, 12])"
      ]
     },
     "execution_count": 47,
     "metadata": {},
     "output_type": "execute_result"
    }
   ],
   "source": [
    "c.flatten()"
   ]
  },
  {
   "cell_type": "code",
   "execution_count": 51,
   "id": "02ec1592",
   "metadata": {},
   "outputs": [
    {
     "data": {
      "text/plain": [
       "array([[[ 1],\n",
       "        [ 5],\n",
       "        [ 9]],\n",
       "\n",
       "       [[ 7],\n",
       "        [ 6],\n",
       "        [ 3]],\n",
       "\n",
       "       [[ 4],\n",
       "        [ 7],\n",
       "        [ 5]],\n",
       "\n",
       "       [[ 1],\n",
       "        [ 5],\n",
       "        [12]]])"
      ]
     },
     "execution_count": 51,
     "metadata": {},
     "output_type": "execute_result"
    }
   ],
   "source": [
    "c"
   ]
  },
  {
   "cell_type": "markdown",
   "id": "ff4c745d",
   "metadata": {},
   "source": [
    "\n",
    "- **The `ravel` function** returns a 1D array containing all the elements of the original array, but it provides a **view** of the original array (instead of a copy), meaning that changes made to the raveled array will affect the original array."
   ]
  },
  {
   "cell_type": "code",
   "execution_count": 46,
   "id": "caa058f9",
   "metadata": {},
   "outputs": [
    {
     "data": {
      "text/plain": [
       "array([ 1,  5,  9,  7,  6,  3,  4,  7,  5,  1,  5, 12])"
      ]
     },
     "execution_count": 46,
     "metadata": {},
     "output_type": "execute_result"
    }
   ],
   "source": [
    "np.ravel(c)"
   ]
  },
  {
   "cell_type": "markdown",
   "id": "a9ca3e2e",
   "metadata": {},
   "source": [
    "| **Feature**               | **`flatten()`**                      | **`ravel()`**                        |\n",
    "|---------------------------|--------------------------------------|--------------------------------------|\n",
    "| **Returns**               | A copy of the original array         | A reference/view of the original array |\n",
    "| **Effect of Modification**| No effect on the original array      | Modifies the original array         |\n",
    "| **Memory Usage**          | Occupies additional memory (slower)  | No additional memory usage (faster) |\n",
    "| **Type**                  | Method of ndarray                    | Function in NumPy library           |\n",
    "\n",
    "So, if you need to modify the flattened array and reflect those changes in the original, \n",
    "**`ravel()`** is better. If you need a copy to keep the original array unaffected, use **`flatten()`**.\n"
   ]
  },
  {
   "cell_type": "code",
   "execution_count": null,
   "id": "bcffe21d",
   "metadata": {},
   "outputs": [],
   "source": []
  },
  {
   "cell_type": "markdown",
   "id": "c681fb96",
   "metadata": {},
   "source": [
    "- **The `random.choice` function** returns a random element from a given array or list. It can also randomly select multiple elements, with or without replacement."
   ]
  },
  {
   "cell_type": "code",
   "execution_count": 402,
   "id": "7d43b688",
   "metadata": {},
   "outputs": [
    {
     "data": {
      "text/plain": [
       "array([ 5,  9,  5,  4,  7,  1,  7,  1, 12,  6,  5,  3])"
      ]
     },
     "execution_count": 402,
     "metadata": {},
     "output_type": "execute_result"
    }
   ],
   "source": [
    "b"
   ]
  },
  {
   "cell_type": "code",
   "execution_count": 80,
   "id": "e8c21b86",
   "metadata": {},
   "outputs": [
    {
     "data": {
      "text/plain": [
       "6"
      ]
     },
     "execution_count": 80,
     "metadata": {},
     "output_type": "execute_result"
    }
   ],
   "source": [
    "np.random.choice(b)"
   ]
  },
  {
   "cell_type": "markdown",
   "id": "28783009",
   "metadata": {},
   "source": [
    "- **The `random.shuffle` function** randomly reorders the elements of a list in-place. It modifies the original list directly.\n",
    "  \n",
    "- **`b.copy()`**: When you need to preserve the original list `b` and avoid modifying it, you can create a copy using `.copy()`."
   ]
  },
  {
   "cell_type": "code",
   "execution_count": 82,
   "id": "40e6df3b",
   "metadata": {},
   "outputs": [
    {
     "data": {
      "text/plain": [
       "[9, 6, 7, 4, 1, 7, 12, 5, 5, 3, 1, 5]"
      ]
     },
     "execution_count": 82,
     "metadata": {},
     "output_type": "execute_result"
    }
   ],
   "source": [
    "np.random.shuffle(b)\n",
    "b"
   ]
  },
  {
   "cell_type": "code",
   "execution_count": 83,
   "id": "b1d2f589",
   "metadata": {},
   "outputs": [
    {
     "name": "stdout",
     "output_type": "stream",
     "text": [
      "Shuffled list:\n",
      "[12, 5, 4, 5, 5, 6, 7, 1, 7, 9, 3, 1]\n",
      "\n",
      "Original list:\n",
      "[9, 6, 7, 4, 1, 7, 12, 5, 5, 3, 1, 5]\n"
     ]
    }
   ],
   "source": [
    "z = b.copy()\n",
    "\n",
    "np.random.shuffle(z)\n",
    "\n",
    "print(\"Shuffled list:\")\n",
    "print(z)\n",
    "\n",
    "print(\"\\nOriginal list:\")\n",
    "print(b)"
   ]
  },
  {
   "cell_type": "code",
   "execution_count": 84,
   "id": "ea47bc6c",
   "metadata": {},
   "outputs": [
    {
     "data": {
      "text/plain": [
       "array([ 0,  1,  2,  3,  4,  5,  6,  7,  8,  9, 10, 11, 12, 13, 14, 15, 16,\n",
       "       17])"
      ]
     },
     "execution_count": 84,
     "metadata": {},
     "output_type": "execute_result"
    }
   ],
   "source": [
    "c = np.arange(18)\n",
    "c"
   ]
  },
  {
   "cell_type": "code",
   "execution_count": 413,
   "id": "8506ac92",
   "metadata": {},
   "outputs": [
    {
     "data": {
      "text/plain": [
       "array([[ 0,  1,  2,  3,  4,  5],\n",
       "       [ 6,  7,  8,  9, 10, 11],\n",
       "       [12, 13, 14, 15, 16, 17]])"
      ]
     },
     "execution_count": 413,
     "metadata": {},
     "output_type": "execute_result"
    }
   ],
   "source": [
    "c = c.reshape(3,6)\n",
    "c"
   ]
  },
  {
   "cell_type": "code",
   "execution_count": 414,
   "id": "2b931cfb",
   "metadata": {},
   "outputs": [
    {
     "data": {
      "text/plain": [
       "array([[ 0,  1,  2,  3,  4,  5],\n",
       "       [ 6,  7,  8,  9, 10, 11],\n",
       "       [12, 13, 14, 15, 16, 17]])"
      ]
     },
     "execution_count": 414,
     "metadata": {},
     "output_type": "execute_result"
    }
   ],
   "source": [
    "c = np.arange(18).reshape(3,6)\n",
    "c"
   ]
  },
  {
   "cell_type": "code",
   "execution_count": null,
   "id": "611980f1",
   "metadata": {},
   "outputs": [
    {
     "name": "stdout",
     "output_type": "stream",
     "text": [
      "[[[ 0  1  2  3  4]\n",
      "  [ 5  6  7  8  9]]\n",
      "\n",
      " [[10 11 12 13 14]\n",
      "  [15 16 17 18 19]]\n",
      "\n",
      " [[20 21 22 23 24]\n",
      "  [25 26 27 28 29]]\n",
      "\n",
      " [[30 31 32 33 34]\n",
      "  [35 36 37 38 39]]\n",
      "\n",
      " [[40 41 42 43 44]\n",
      "  [45 46 47 48 49]]\n",
      "\n",
      " [[50 51 52 53 54]\n",
      "  [55 56 57 58 59]]\n",
      "\n",
      " [[60 61 62 63 64]\n",
      "  [65 66 67 68 69]]\n",
      "\n",
      " [[70 71 72 73 74]\n",
      "  [75 76 77 78 79]]\n",
      "\n",
      " [[80 81 82 83 84]\n",
      "  [85 86 87 88 89]]\n",
      "\n",
      " [[90 91 92 93 94]\n",
      "  [95 96 97 98 99]]]\n"
     ]
    }
   ],
   "source": [
    "arr = np.arange(100).reshape(10, 2, 5)\n",
    "print(arr)"
   ]
  },
  {
   "cell_type": "markdown",
   "id": "64c62acc",
   "metadata": {},
   "source": [
    "Breakdown:\n",
    "- 10 is the number of matrices (or depth).\n",
    "\n",
    "- 2 is the number of rows in each matrix.\n",
    "\n",
    "- 5 is the number of columns in each row."
   ]
  },
  {
   "cell_type": "code",
   "execution_count": 418,
   "id": "0ff26afc",
   "metadata": {},
   "outputs": [
    {
     "name": "stdout",
     "output_type": "stream",
     "text": [
      "(10, 2, 5)\n"
     ]
    }
   ],
   "source": [
    "print(arr.shape)"
   ]
  },
  {
   "cell_type": "markdown",
   "id": "d1c9bf25",
   "metadata": {},
   "source": [
    "**Stacking arrays** in NumPy refers to the process of joining two or more arrays along a specific axis. There are several functions available in NumPy to stack arrays:\n",
    "\n",
    "- **`np.vstack()`**: Stacks arrays vertically (along rows)."
   ]
  },
  {
   "cell_type": "code",
   "execution_count": 85,
   "id": "f4522f3e",
   "metadata": {},
   "outputs": [
    {
     "name": "stdout",
     "output_type": "stream",
     "text": [
      "[[1 2 3]\n",
      " [4 5 6]]\n"
     ]
    }
   ],
   "source": [
    "arr1 = np.array([1, 2, 3])\n",
    "arr2 = np.array([4, 5, 6])\n",
    "\n",
    "result = np.vstack((arr1, arr2))\n",
    "print(result)\n"
   ]
  },
  {
   "cell_type": "markdown",
   "id": "db0fcfe5",
   "metadata": {},
   "source": [
    "- **`np.hstack()`**: Stacks arrays horizontally (along columns).\n"
   ]
  },
  {
   "cell_type": "code",
   "execution_count": 424,
   "id": "bb007982",
   "metadata": {},
   "outputs": [
    {
     "name": "stdout",
     "output_type": "stream",
     "text": [
      "[1 2 3 4 5 6]\n"
     ]
    }
   ],
   "source": [
    "arr1 = np.array([1, 2, 3])\n",
    "arr2 = np.array([4, 5, 6])\n",
    "\n",
    "result = np.hstack((arr1, arr2))\n",
    "print(result)\n"
   ]
  },
  {
   "cell_type": "markdown",
   "id": "4d8afd36",
   "metadata": {},
   "source": [
    "\n",
    "- **`np.dstack()`**: Stacks arrays along the third axis (depth).\n"
   ]
  },
  {
   "cell_type": "code",
   "execution_count": 89,
   "id": "f6a2146f",
   "metadata": {},
   "outputs": [
    {
     "name": "stdout",
     "output_type": "stream",
     "text": [
      "[1 2 3 4 5 6]\n"
     ]
    }
   ],
   "source": [
    "arr1 = np.array([1, 2, 3])\n",
    "arr2 = np.array([4, 5, 6])\n",
    "\n",
    "result = np.concatenate((arr1, arr2), axis=0)\n",
    "print(result)\n"
   ]
  },
  {
   "cell_type": "code",
   "execution_count": 92,
   "id": "fb0bc23f",
   "metadata": {},
   "outputs": [
    {
     "ename": "AxisError",
     "evalue": "axis 1 is out of bounds for array of dimension 1",
     "output_type": "error",
     "traceback": [
      "\u001b[1;31m---------------------------------------------------------------------------\u001b[0m",
      "\u001b[1;31mAxisError\u001b[0m                                 Traceback (most recent call last)",
      "Cell \u001b[1;32mIn[92], line 4\u001b[0m\n\u001b[0;32m      1\u001b[0m arr1 \u001b[38;5;241m=\u001b[39m np\u001b[38;5;241m.\u001b[39marray([\u001b[38;5;241m1\u001b[39m, \u001b[38;5;241m2\u001b[39m, \u001b[38;5;241m3\u001b[39m])\n\u001b[0;32m      2\u001b[0m arr2 \u001b[38;5;241m=\u001b[39m np\u001b[38;5;241m.\u001b[39marray([\u001b[38;5;241m4\u001b[39m, \u001b[38;5;241m5\u001b[39m, \u001b[38;5;241m6\u001b[39m])\n\u001b[1;32m----> 4\u001b[0m result \u001b[38;5;241m=\u001b[39m \u001b[43mnp\u001b[49m\u001b[38;5;241;43m.\u001b[39;49m\u001b[43mconcatenate\u001b[49m\u001b[43m(\u001b[49m\u001b[43m(\u001b[49m\u001b[43marr1\u001b[49m\u001b[43m,\u001b[49m\u001b[43m \u001b[49m\u001b[43marr2\u001b[49m\u001b[43m)\u001b[49m\u001b[43m,\u001b[49m\u001b[43m \u001b[49m\u001b[43maxis\u001b[49m\u001b[38;5;241;43m=\u001b[39;49m\u001b[38;5;241;43m1\u001b[39;49m\u001b[43m)\u001b[49m\n\u001b[0;32m      5\u001b[0m \u001b[38;5;28mprint\u001b[39m(result)\n",
      "\u001b[1;31mAxisError\u001b[0m: axis 1 is out of bounds for array of dimension 1"
     ]
    }
   ],
   "source": [
    "arr1 = np.array([1, 2, 3])\n",
    "arr2 = np.array([4, 5, 6])\n",
    "\n",
    "result = np.concatenate((arr1, arr2), axis=1)\n",
    "print(result)\n"
   ]
  },
  {
   "cell_type": "code",
   "execution_count": null,
   "id": "eac8668d",
   "metadata": {},
   "outputs": [
    {
     "name": "stdout",
     "output_type": "stream",
     "text": [
      "[[1 2 5 6]\n",
      " [3 4 7 8]]\n"
     ]
    }
   ],
   "source": [
    "arr1 = np.array([[1, 2], [3, 4]])\n",
    "arr2 = np.array([[5, 6], [7, 8]])\n",
    "\n",
    "result = np.concatenate((arr1, arr2), axis=1)\n",
    "print(result)"
   ]
  },
  {
   "cell_type": "markdown",
   "id": "2d957448",
   "metadata": {},
   "source": [
    "### Explanation:\n",
    "- **1D arrays**: Concatenating along **axis 0** (the only axis for 1D arrays) simply combines the arrays into a longer 1D array.\n",
    "- **2D arrays**: Concatenating along **axis 1** adds the columns of `arr2` to the columns of `arr1`."
   ]
  },
  {
   "cell_type": "code",
   "execution_count": null,
   "id": "5a4194c3",
   "metadata": {},
   "outputs": [],
   "source": []
  },
  {
   "cell_type": "markdown",
   "id": "8178be14",
   "metadata": {},
   "source": [
    "- **`reduce`**: Performs a cumulative operation (e.g., sum or multiplication) on the array.\n"
   ]
  },
  {
   "cell_type": "code",
   "execution_count": null,
   "id": "e6e85738",
   "metadata": {},
   "outputs": [
    {
     "name": "stdout",
     "output_type": "stream",
     "text": [
      "10\n"
     ]
    }
   ],
   "source": [
    "import numpy as np\n",
    "m = np.array([1, 2, 3, 4])\n",
    "\n",
    "result = np.add.reduce(m)\n",
    "print(result)  #  (1+2+3+4)\n"
   ]
  },
  {
   "cell_type": "code",
   "execution_count": 443,
   "id": "801048c9",
   "metadata": {},
   "outputs": [
    {
     "name": "stdout",
     "output_type": "stream",
     "text": [
      "24\n"
     ]
    }
   ],
   "source": [
    "result = np.multiply.reduce(m)\n",
    "print(result)  #  (1*2*3*4)\n"
   ]
  },
  {
   "cell_type": "markdown",
   "id": "f6175367",
   "metadata": {},
   "source": [
    "- **`trace`**: Computes the trace of a matrix (sum of diagonal elements).\n"
   ]
  },
  {
   "cell_type": "code",
   "execution_count": 452,
   "id": "aeecccc4",
   "metadata": {},
   "outputs": [
    {
     "data": {
      "text/plain": [
       "array([[ 1,  2,  3,  4],\n",
       "       [ 5,  6,  7,  8],\n",
       "       [ 9, 10, 11, 12],\n",
       "       [13, 14, 15, 16]])"
      ]
     },
     "execution_count": 452,
     "metadata": {},
     "output_type": "execute_result"
    }
   ],
   "source": [
    "q=np.arange(1,17).reshape(4,4)\n",
    "q"
   ]
  },
  {
   "cell_type": "code",
   "execution_count": 453,
   "id": "bcb4d873",
   "metadata": {},
   "outputs": [
    {
     "name": "stdout",
     "output_type": "stream",
     "text": [
      "34\n"
     ]
    }
   ],
   "source": [
    "trace_value = np.trace(q)\n",
    "print(trace_value)"
   ]
  },
  {
   "cell_type": "markdown",
   "id": "18e322b0",
   "metadata": {},
   "source": [
    "- **`det`**: Computes the determinant of a matrix.\n"
   ]
  },
  {
   "cell_type": "code",
   "execution_count": 454,
   "id": "4148923a",
   "metadata": {},
   "outputs": [
    {
     "name": "stdout",
     "output_type": "stream",
     "text": [
      "0.0\n"
     ]
    }
   ],
   "source": [
    "det_value = np.linalg.det(q)\n",
    "print(det_value)\n"
   ]
  },
  {
   "cell_type": "markdown",
   "id": "1d1e2580",
   "metadata": {},
   "source": [
    "- **`split`**: Splits an array into sub-arrays at specified indices."
   ]
  },
  {
   "cell_type": "code",
   "execution_count": 94,
   "id": "89c55273",
   "metadata": {},
   "outputs": [
    {
     "name": "stdout",
     "output_type": "stream",
     "text": [
      "[array([], dtype=int32), array([1, 2, 3, 4]), array([5, 6])]\n"
     ]
    }
   ],
   "source": [
    "a = np.array([1, 2, 3, 4, 5, 6])\n",
    "\n",
    "split_result = np.split(a, (0, 4))\n",
    "print(split_result)"
   ]
  },
  {
   "cell_type": "code",
   "execution_count": 95,
   "id": "5f93140e",
   "metadata": {},
   "outputs": [
    {
     "data": {
      "text/plain": [
       "3"
      ]
     },
     "execution_count": 95,
     "metadata": {},
     "output_type": "execute_result"
    }
   ],
   "source": [
    "len(split_result)\n"
   ]
  },
  {
   "cell_type": "code",
   "execution_count": null,
   "id": "12ab008f",
   "metadata": {},
   "outputs": [
    {
     "name": "stdout",
     "output_type": "stream",
     "text": [
      "[1]\n",
      "[2 3 4]\n",
      "[5 6]\n"
     ]
    }
   ],
   "source": [
    "a1, a2, a3 = split(a, (0, 4))\n",
    "print(a1)\n",
    "print(a2)\n",
    "print(a3)"
   ]
  },
  {
   "cell_type": "markdown",
   "id": "2e6e3a63",
   "metadata": {},
   "source": [
    "### Explanation:\n",
    "- **`np.split(a, (0, 4))`** divides the array `a` into parts based on the indices you provided. The result will have 3 parts:\n",
    "  - One part before index 0 (which is an empty array).\n",
    "  - One part from index 0 to index 4.\n",
    "  - One part from index 4 to the end."
   ]
  },
  {
   "cell_type": "code",
   "execution_count": null,
   "id": "8a6a2e68",
   "metadata": {},
   "outputs": [],
   "source": []
  },
  {
   "cell_type": "markdown",
   "id": "74d5b397",
   "metadata": {},
   "source": [
    "### Contact Me 📞✉️\n",
    "### Ahmed ElSany \n",
    "\n",
    "Feel free to reach out to me anytime!  \n",
    "\n",
    "- 📱 **Whatsapp:** 01008141749\n",
    "\n",
    "- 📧 **LinkedIn:** https://www.linkedin.com/in/ahmed-elsany-0a588a223/\n",
    "\n",
    "- 📧 **Facebook:** https://www.facebook.com/profile.php?id=100009780577339\n"
   ]
  },
  {
   "cell_type": "markdown",
   "id": "7f60f72f",
   "metadata": {},
   "source": [
    "### Don't Stop , It's Just Begininning"
   ]
  }
 ],
 "metadata": {
  "kernelspec": {
   "display_name": "env_dlib",
   "language": "python",
   "name": "python3"
  },
  "language_info": {
   "codemirror_mode": {
    "name": "ipython",
    "version": 3
   },
   "file_extension": ".py",
   "mimetype": "text/x-python",
   "name": "python",
   "nbconvert_exporter": "python",
   "pygments_lexer": "ipython3",
   "version": "3.12.3"
  }
 },
 "nbformat": 4,
 "nbformat_minor": 5
}
